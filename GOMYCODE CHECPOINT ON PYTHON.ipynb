{
 "cells": [
  {
   "cell_type": "code",
   "execution_count": 1,
   "id": "84730dba-1677-410f-914b-9c25aa3cce6e",
   "metadata": {},
   "outputs": [
    {
     "name": "stdin",
     "output_type": "stream",
     "text": [
      " what pizza would you like to order?..(Small(S),Medium(M) or Large(L)):  l\n"
     ]
    },
    {
     "name": "stdout",
     "output_type": "stream",
     "text": [
      "Pizza: $25\n"
     ]
    },
    {
     "name": "stdin",
     "output_type": "stream",
     "text": [
      "\n",
      "\n",
      "would you like to add pepperoni on your pizza order? YES(Y) OR NO(N): y\n"
     ]
    },
    {
     "name": "stdout",
     "output_type": "stream",
     "text": [
      "Pizza and pepperoni: $28\n"
     ]
    },
    {
     "name": "stdin",
     "output_type": "stream",
     "text": [
      "\n",
      "\n",
      "would you like an extra cheese? YES(Y) OR NO(N): n\n"
     ]
    },
    {
     "name": "stdout",
     "output_type": "stream",
     "text": [
      "\n",
      "\n",
      "Your Total Price is: $28\n"
     ]
    }
   ],
   "source": [
    "\"Welcome to Python Pizza deliveries\"\n",
    "price = 0\n",
    "#creating the size of each pizza order\n",
    "while True:\n",
    "    size = input(\" what pizza would you like to order?..(Small(S),Medium(M) or Large(L)): \")\n",
    "\n",
    "    if size.upper() == \"S\":\n",
    "        price += 15\n",
    "        print(f\"Pizza: ${price}\")\n",
    "        break\n",
    "    elif size.upper() == \"M\":\n",
    "        price = 20\n",
    "        print(f\"Pizza: ${price}\")\n",
    "        break\n",
    "    elif size.upper() == \"L\":\n",
    "        price = 25\n",
    "        print(f\"Pizza: ${price}\")\n",
    "        break\n",
    "    else:\n",
    "        print(\"Selected Size is Invalid\")\n",
    "\n",
    "#Creating the pepperoni order\n",
    "while True:\n",
    "    Add_pepperoni = input(\"\\n\\nwould you like to add pepperoni on your pizza order? YES(Y) OR NO(N):\")\n",
    "    if Add_pepperoni.upper() == \"Y\":\n",
    "        if size.upper() == \"S\": \n",
    "            price += 2\n",
    "            print(f\"Pizza and pepperoni: ${price}\")\n",
    "            break\n",
    "        elif size.upper() == \"M\":\n",
    "            price += 3\n",
    "            print(f\"Pizza and pepperoni: ${price}\")\n",
    "            break\n",
    "        elif size.upper() == \"L\":\n",
    "            price +=3\n",
    "            print(f\"Pizza and pepperoni: ${price}\")\n",
    "            break\n",
    "\n",
    "    elif Add_pepperoni.upper() == \"N\":\n",
    "        price += 0\n",
    "        break\n",
    "    else:\n",
    "        print(\"Invalid Entry. Please Insert Y or N\")\n",
    "\n",
    "#Creating the cheese order\n",
    "while True:\n",
    "    Extra_cheese = input(\"\\n\\nwould you like an extra cheese? YES(Y) OR NO(N):\")\n",
    "\n",
    "    if Extra_cheese.upper() == \"Y\":\n",
    "        price += 1\n",
    "        print(f\"Pizza and pepperoni with Extra cheese: ${price}\") \n",
    "        break\n",
    "    elif Extra_cheese.upper() == \"N\":\n",
    "        price += 0\n",
    "        break\n",
    "    \n",
    "    else:\n",
    "        print(\"Invalid entry,Please Insert Y or N.\")\n",
    "\n",
    "print(f\"\\n\\nYour Total Price is: ${price}\")"
   ]
  }
 ],
 "metadata": {
  "kernelspec": {
   "display_name": "Python 3 (ipykernel)",
   "language": "python",
   "name": "python3"
  },
  "language_info": {
   "codemirror_mode": {
    "name": "ipython",
    "version": 3
   },
   "file_extension": ".py",
   "mimetype": "text/x-python",
   "name": "python",
   "nbconvert_exporter": "python",
   "pygments_lexer": "ipython3",
   "version": "3.11.7"
  }
 },
 "nbformat": 4,
 "nbformat_minor": 5
}
